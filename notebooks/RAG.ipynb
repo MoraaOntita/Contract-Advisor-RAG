{
 "cells": [
  {
   "cell_type": "code",
   "execution_count": 1,
   "metadata": {},
   "outputs": [
    {
     "name": "stderr",
     "output_type": "stream",
     "text": [
      "/home/moraa/Documents/10_academy/week-11/venv/lib/python3.10/site-packages/pinecone/data/index.py:1: TqdmWarning: IProgress not found. Please update jupyter and ipywidgets. See https://ipywidgets.readthedocs.io/en/stable/user_install.html\n",
      "  from tqdm.autonotebook import tqdm\n"
     ]
    }
   ],
   "source": [
    "# Importing LIbraries\n",
    "from docx import Document\n",
    "import os\n",
    "from docx import Document as DocxDocument\n",
    "from langchain.schema import Document\n",
    "from dotenv import load_dotenv\n",
    "from langchain.document_loaders.base import BaseLoader\n",
    "from langchain.text_splitter import RecursiveCharacterTextSplitter\n",
    "from langchain.llms import OpenAI\n",
    "from langchain.vectorstores import Pinecone\n",
    "from pinecone import Pinecone, ServerlessSpec\n",
    "from langchain.embeddings.openai import OpenAIEmbeddings\n"
   ]
  },
  {
   "cell_type": "markdown",
   "metadata": {},
   "source": [
    "Load the Contract Document"
   ]
  },
  {
   "cell_type": "code",
   "execution_count": 2,
   "metadata": {},
   "outputs": [
    {
     "name": "stdout",
     "output_type": "stream",
     "text": [
      "{'text': 'STOCK PURCHASE AGREEMENT', 'metadata': {'file_name': 'Raptor Contract', 'section_title': 'No Section Title', 'paragraph_number': 0}}\n",
      "{'text': 'BY AND AMONG', 'metadata': {'file_name': 'Raptor Contract', 'section_title': 'No Section Title', 'paragraph_number': 1}}\n",
      "{'text': '[BUYER],', 'metadata': {'file_name': 'Raptor Contract', 'section_title': 'No Section Title', 'paragraph_number': 2}}\n",
      "{'text': '[TARGET COMPANY],', 'metadata': {'file_name': 'Raptor Contract', 'section_title': 'No Section Title', 'paragraph_number': 3}}\n",
      "{'text': 'THE SELLERS LISTED ON SCHEDULE I HERETO', 'metadata': {'file_name': 'Raptor Contract', 'section_title': 'No Section Title', 'paragraph_number': 4}}\n"
     ]
    }
   ],
   "source": [
    "from docx import Document\n",
    "import re\n",
    "import os\n",
    "\n",
    "def extract_text_with_metadata(docx_path):\n",
    "    try:\n",
    "        doc = Document(docx_path)\n",
    "        documents = []\n",
    "        section_title = \"No Section Title\"\n",
    "        paragraph_number = 0\n",
    "        \n",
    "        file_name = os.path.splitext(os.path.basename(docx_path))[0]\n",
    "\n",
    "        for paragraph in doc.paragraphs:\n",
    "            text = paragraph.text.strip()\n",
    "            if not text:\n",
    "                continue\n",
    "\n",
    "            if re.match(r'^Section \\d+\\.\\d+', text):\n",
    "                section_title = text\n",
    "\n",
    "            metadata = {\n",
    "                'file_name': file_name,\n",
    "                'section_title': section_title,\n",
    "                'paragraph_number': paragraph_number,\n",
    "            }\n",
    "            documents.append({'text': text, 'metadata': metadata})\n",
    "            paragraph_number += 1\n",
    "\n",
    "        return documents\n",
    "    except Exception as e:\n",
    "        print(f\"Error reading {docx_path}: {e}\")\n",
    "        return []\n",
    "\n",
    "# Example usage\n",
    "docx_path = '/home/moraa/Documents/10_academy/week-11/data/train/Raptor Contract.docx'\n",
    "documents = extract_text_with_metadata(docx_path)\n",
    "\n",
    "# Display the output for verification\n",
    "for doc in documents[:5]:  # Show only the first 5 entries for brevity\n",
    "    print(doc)\n"
   ]
  },
  {
   "cell_type": "markdown",
   "metadata": {},
   "source": [
    "Chunking"
   ]
  },
  {
   "cell_type": "code",
   "execution_count": 3,
   "metadata": {},
   "outputs": [
    {
     "name": "stdout",
     "output_type": "stream",
     "text": [
      "{'text': 'STOCK PURCHASE AGREEMENT BY AND AMONG [BUYER], [TARGET COMPANY], THE SELLERS LISTED ON SCHEDULE I HERETO AND THE SELLERS’ REPRESENTATIVE NAMED HEREIN Dated as of [●] [This document is intended solely to facilitate discussions among the parties identified herein.  Neither this document nor such discussions are intended to create, nor will either or both be deemed to create, a legally binding or enforceable offer or agreement of any type or nature, unless and until a definitive written agreement is executed and delivered by each of the parties hereto. This document shall be kept confidential pursuant to the terms of the Confidentiality Agreement entered into by the parties and, if applicable, its affiliates with respect to the subject matter hereof.] TABLE OF CONTENTS ARTICLE I DEFINITIONS; CERTAIN RULES OF CONSTRUCTION\\t2', 'metadata': {'id': 'default_id', 'section_title': 'No Section Title', 'file_name': None, 'paragraph_number': None}}\n",
      "{'text': 'Section 1.01\\tDefinitions\\t2', 'metadata': {'file_name': 'Raptor Contract', 'section_title': 'Section 1.01\\tDefinitions\\t2', 'paragraph_number': 12}}\n",
      "{'text': 'Section 1.02\\tCertain Matters of Construction\\t13', 'metadata': {'file_name': 'Raptor Contract', 'section_title': 'Section 1.02\\tCertain Matters of Construction\\t13', 'paragraph_number': 13}}\n",
      "{'text': 'ARTICLE II PURCHASE AND SALE OF SHARES AND WARRANTS; TREATMENT OF OPTIONS; CLOSING.\\t14', 'metadata': {'file_name': 'Raptor Contract', 'section_title': 'Section 1.02\\tCertain Matters of Construction\\t13', 'paragraph_number': 14}}\n",
      "{'text': 'Section 2.01\\tPurchase and Sale of Shares\\t14', 'metadata': {'file_name': 'Raptor Contract', 'section_title': 'Section 2.01\\tPurchase and Sale of Shares\\t14', 'paragraph_number': 15}}\n"
     ]
    }
   ],
   "source": [
    "def group_paragraphs_into_sections(documents):\n",
    "    sections = []\n",
    "    current_section = {'text': '', 'metadata': {'id': 'default_id', 'section_title': 'No Section Title', 'file_name': None, 'paragraph_number': None}}\n",
    "\n",
    "    for doc in documents:\n",
    "        if doc['metadata']['section_title'] and doc['metadata']['section_title'] != \"No Section Title\":\n",
    "            if current_section['text']:\n",
    "                sections.append(current_section)\n",
    "            current_section = {'text': doc['text'], 'metadata': doc['metadata']}\n",
    "        else:\n",
    "            if current_section['text']:\n",
    "                current_section['text'] += ' ' + doc['text']\n",
    "            else:\n",
    "                current_section['text'] = doc['text']\n",
    "    \n",
    "    if current_section['text']:\n",
    "        sections.append(current_section)\n",
    "\n",
    "    return sections\n",
    "\n",
    "# Example usage\n",
    "sections = group_paragraphs_into_sections(documents)\n",
    "\n",
    "# Display the output for verification\n",
    "for section in sections[:5]:  # Show only the first 5 entries for brevity\n",
    "    print(section)"
   ]
  },
  {
   "cell_type": "code",
   "execution_count": 4,
   "metadata": {},
   "outputs": [
    {
     "name": "stdout",
     "output_type": "stream",
     "text": [
      "{'text': 'STOCK PURCHASE AGREEMENT BY AND AMONG [BUYER], [TARGET COMPANY], THE SELLERS LISTED ON SCHEDULE I HERETO AND THE SELLERS’ REPRESENTATIVE NAMED HEREIN Dated as of [●] [This document is intended solely to facilitate discussions among the parties identified herein.  Neither this document nor such discussions are intended to create, nor will either or both be deemed to create, a legally binding or enforceable offer or agreement of any type or nature, unless and until a definitive written agreement is executed and delivered by each of the parties hereto. This document shall be kept confidential pursuant to the terms of the Confidentiality Agreement entered into by the parties and, if applicable, its affiliates with respect to the subject matter hereof.] TABLE OF CONTENTS ARTICLE I DEFINITIONS; CERTAIN RULES OF CONSTRUCTION\\t2', 'metadata': {'id': 'chunk_0', 'section_title': 'No Section Title', 'file_name': None, 'paragraph_number': None, 'text': 'STOCK PURCHASE AGREEMENT BY AND AMONG [BUYER], [TARGET COMPANY], THE SELLERS LISTED ON SCHEDULE I HERETO AND THE SELLERS’ REPRESENTATIVE NAMED HEREIN Dated as of [●] [This document is intended solely to facilitate discussions among the parties identified herein.  Neither this document nor such discussions are intended to create, nor will either or both be deemed to create, a legally binding or enforceable offer or agreement of any type or nature, unless and until a definitive written agreement is executed and delivered by each of the parties hereto. This document shall be kept confidential pursuant to the terms of the Confidentiality Agreement entered into by the parties and, if applicable, its affiliates with respect to the subject matter hereof.] TABLE OF CONTENTS ARTICLE I DEFINITIONS; CERTAIN RULES OF CONSTRUCTION\\t2'}}\n",
      "{'text': 'Section 1.01\\tDefinitions\\t2', 'metadata': {'id': 'chunk_1', 'section_title': 'Section 1.01\\tDefinitions\\t2', 'file_name': 'Raptor Contract', 'paragraph_number': 12, 'text': 'Section 1.01\\tDefinitions\\t2'}}\n",
      "{'text': 'Section 1.02\\tCertain Matters of Construction\\t13', 'metadata': {'id': 'chunk_2', 'section_title': 'Section 1.02\\tCertain Matters of Construction\\t13', 'file_name': 'Raptor Contract', 'paragraph_number': 13, 'text': 'Section 1.02\\tCertain Matters of Construction\\t13'}}\n",
      "{'text': 'ARTICLE II PURCHASE AND SALE OF SHARES AND WARRANTS; TREATMENT OF OPTIONS; CLOSING.\\t14', 'metadata': {'id': 'chunk_3', 'section_title': 'Section 1.02\\tCertain Matters of Construction\\t13', 'file_name': 'Raptor Contract', 'paragraph_number': 14, 'text': 'ARTICLE II PURCHASE AND SALE OF SHARES AND WARRANTS; TREATMENT OF OPTIONS; CLOSING.\\t14'}}\n",
      "{'text': 'Section 2.01\\tPurchase and Sale of Shares\\t14', 'metadata': {'id': 'chunk_4', 'section_title': 'Section 2.01\\tPurchase and Sale of Shares\\t14', 'file_name': 'Raptor Contract', 'paragraph_number': 15, 'text': 'Section 2.01\\tPurchase and Sale of Shares\\t14'}}\n"
     ]
    }
   ],
   "source": [
    "from langchain.text_splitter import RecursiveCharacterTextSplitter\n",
    "\n",
    "def chunk_sections(sections, chunk_size=2000, chunk_overlap=200):\n",
    "    text_splitter = RecursiveCharacterTextSplitter(\n",
    "        chunk_size=chunk_size,\n",
    "        chunk_overlap=chunk_overlap\n",
    "    )\n",
    "    \n",
    "    chunks = []\n",
    "    chunk_id_counter = 0  # Counter for unique chunk IDs\n",
    "\n",
    "    for section in sections:\n",
    "        try:\n",
    "            split_texts = text_splitter.split_text(section['text'])\n",
    "            \n",
    "            for split_text in split_texts:\n",
    "                chunk_metadata = {\n",
    "                    'id': f\"chunk_{chunk_id_counter}\",  # Generate unique ID\n",
    "                    'section_title': section['metadata'].get('section_title', 'No Section Title'),\n",
    "                    'file_name': section['metadata'].get('file_name', 'Unknown File'),\n",
    "                    'paragraph_number': section['metadata'].get('paragraph_number', 'Unknown Paragraph'),\n",
    "                    'text': split_text  # Store the actual text content in metadata\n",
    "                }\n",
    "                chunks.append({\n",
    "                    'text': split_text,\n",
    "                    'metadata': chunk_metadata\n",
    "                })\n",
    "                chunk_id_counter += 1  # Increment the counter for the next chunk\n",
    "        except Exception as e:\n",
    "            print(f\"Error processing section with title '{section['metadata'].get('section_title', 'Unknown')}' - {e}\")\n",
    "\n",
    "    return chunks\n",
    "\n",
    "# Example usage\n",
    "chunks = chunk_sections(sections)\n",
    "\n",
    "# Display the first few chunks for verification\n",
    "for chunk in chunks[:5]:  # Show only the first 5 chunks for brevity\n",
    "    print(chunk)\n"
   ]
  },
  {
   "cell_type": "code",
   "execution_count": 5,
   "metadata": {},
   "outputs": [
    {
     "name": "stdout",
     "output_type": "stream",
     "text": [
      "Chunk ID: chunk_0\n",
      "Section Title: No Section Title\n",
      "Paragraph Number: None\n",
      "--------------------\n",
      "Chunk ID: chunk_1\n",
      "Section Title: Section 1.01\tDefinitions\t2\n",
      "Paragraph Number: 12\n",
      "--------------------\n",
      "Chunk ID: chunk_2\n",
      "Section Title: Section 1.02\tCertain Matters of Construction\t13\n",
      "Paragraph Number: 13\n",
      "--------------------\n"
     ]
    }
   ],
   "source": [
    "def verify_chunk_data(chunks):\n",
    "  \"\"\"\n",
    "  This function checks for data consistency in the 'chunks' data structure.\n",
    "\n",
    "  Args:\n",
    "      chunks: A list of dictionaries containing text and metadata for each chunk.\n",
    "\n",
    "  Prints warnings if metadata is missing from any chunk.\n",
    "  \"\"\"\n",
    "  for chunk in chunks[:3]:  # Check only the first 3 chunks for brevity\n",
    "      print(f\"Chunk ID: {chunk['metadata']['id']}\")\n",
    "      print(f\"Section Title: {chunk.get('metadata', {}).get('section_title', 'N/A')}\")\n",
    "      print(f\"Paragraph Number: {chunk.get('metadata', {}).get('paragraph_number', 'N/A')}\")\n",
    "      print(\"-\"*20)\n",
    "\n",
    "# Assuming 'chunks' is available from your previous code, call the function here\n",
    "verify_chunk_data(chunks)"
   ]
  },
  {
   "cell_type": "markdown",
   "metadata": {},
   "source": [
    "Embeddings"
   ]
  },
  {
   "cell_type": "code",
   "execution_count": 6,
   "metadata": {},
   "outputs": [
    {
     "name": "stdout",
     "output_type": "stream",
     "text": [
      "Data successfully upserted into Pinecone.\n"
     ]
    }
   ],
   "source": [
    "from sentence_transformers import SentenceTransformer\n",
    "import pinecone\n",
    "import numpy as np\n",
    "import os\n",
    "from dotenv import load_dotenv\n",
    "from pinecone import Pinecone, ServerlessSpec\n",
    "\n",
    "# Load environment variables\n",
    "load_dotenv()\n",
    "\n",
    "# Load the fine-tuned model\n",
    "model_save_path = 'fine-tuned-model'\n",
    "model = SentenceTransformer(model_save_path)\n",
    "\n",
    "# Function to generate embeddings\n",
    "def generate_embeddings(model, chunks):\n",
    "    texts = [chunk['text'] for chunk in chunks]\n",
    "    embeddings = model.encode(texts, convert_to_numpy=True)\n",
    "    return embeddings\n",
    "\n",
    "# Generate embeddings for all chunks\n",
    "embeddings = generate_embeddings(model, chunks)\n",
    "\n",
    "# Initialize Pinecone client\n",
    "pinecone_api_key = os.getenv('PINECONE_API_KEY')\n",
    "pc = Pinecone(api_key=pinecone_api_key)\n",
    "\n",
    "index_name = \"wk11-embeddings\"\n",
    "\n",
    "# Check if the index exists; if not, create it\n",
    "if index_name not in pc.list_indexes().names():\n",
    "    pc.create_index(\n",
    "        name=index_name,\n",
    "        dimension=embeddings.shape[1],  # Use the dimension of your embeddings\n",
    "        metric=\"cosine\",\n",
    "        spec=ServerlessSpec(\n",
    "            cloud='aws',\n",
    "            region='us-east-1'\n",
    "        )\n",
    "    )\n",
    "\n",
    "# Connect to the index\n",
    "index = pc.Index(index_name)\n",
    "\n",
    "# Function to prepare data for Pinecone\n",
    "def prepare_data_for_pinecone(chunks, embeddings):\n",
    "    data = []\n",
    "    for i, chunk in enumerate(chunks):\n",
    "        metadata = chunk['metadata']\n",
    "        cleaned_metadata = {k: (v if v is not None else '') for k, v in metadata.items()}\n",
    "        \n",
    "        data.append({\n",
    "            'id': chunk['metadata']['id'],\n",
    "            'values': embeddings[i].tolist(),  # Convert numpy array to list\n",
    "            'metadata': cleaned_metadata,\n",
    "            'text': chunk['text']  # Store the actual text content\n",
    "        })\n",
    "    return data\n",
    "\n",
    "# Prepare the data\n",
    "data_for_pinecone = prepare_data_for_pinecone(chunks, embeddings)\n",
    "\n",
    "# Convert the data to Pinecone-compatible format\n",
    "vectors = [(item['id'], item['values'], item['metadata']) for item in data_for_pinecone]\n",
    "\n",
    "# Upsert data into Pinecone\n",
    "index.upsert(vectors=vectors)\n",
    "\n",
    "print(\"Data successfully upserted into Pinecone.\")\n"
   ]
  },
  {
   "cell_type": "markdown",
   "metadata": {},
   "source": [
    "User Queries"
   ]
  },
  {
   "cell_type": "code",
   "execution_count": null,
   "metadata": {},
   "outputs": [],
   "source": []
  },
  {
   "cell_type": "markdown",
   "metadata": {},
   "source": [
    "Generation"
   ]
  },
  {
   "cell_type": "code",
   "execution_count": 7,
   "metadata": {},
   "outputs": [
    {
     "name": "stdout",
     "output_type": "stream",
     "text": [
      "Content: PURCHASE AND SALE OF SHARES AND WARRANTS;\n",
      "TREATMENT OF OPTIONS; CLOSING.\n",
      "Metadata: {'file_name': 'Raptor Contract', 'id': 'chunk_185', 'paragraph_number': 195.0, 'section_title': 'Section 9.12\\tNo Recourse\\t50', 'text': 'PURCHASE AND SALE OF SHARES AND WARRANTS;\\nTREATMENT OF OPTIONS; CLOSING.'}\n",
      "\n",
      "Content: Buyer Closing Deliveries.  Upon the terms and subject to the conditions set forth in this Agreement, the Buyer shall deliver or cause to be delivered at the Closing the following:\n",
      "Metadata: {'file_name': 'Raptor Contract', 'id': 'chunk_193', 'paragraph_number': 203.0, 'section_title': 'Section 9.12\\tNo Recourse\\t50', 'text': 'Buyer Closing Deliveries.  Upon the terms and subject to the conditions set forth in this Agreement, the Buyer shall deliver or cause to be delivered at the Closing the following:'}\n",
      "\n",
      "Content: WHEREAS, Buyer desires to purchase from the Shareholders, and the Shareholders desire to sell to Buyer, at the Closing (as defined below) all of the Shares upon the terms and subject to the conditions set forth in this Agreement; and\n",
      "Metadata: {'file_name': 'Raptor Contract', 'id': 'chunk_84', 'paragraph_number': 95.0, 'section_title': 'Section 9.12\\tNo Recourse\\t50', 'text': 'WHEREAS, Buyer desires to purchase from the Shareholders, and the Shareholders desire to sell to Buyer, at the Closing (as defined below) all of the Shares upon the terms and subject to the conditions set forth in this Agreement; and'}\n",
      "\n",
      "Content: the Employment Agreements and any other Ancillary Agreements to be entered into by any Seller at Closing, executed by the applicable Seller party thereto;\n",
      "Metadata: {'file_name': 'Raptor Contract', 'id': 'chunk_201', 'paragraph_number': 211.0, 'section_title': 'Section 9.12\\tNo Recourse\\t50', 'text': 'the Employment Agreements and any other Ancillary Agreements to be entered into by any Seller at Closing, executed by the applicable Seller party thereto;'}\n",
      "\n",
      "Content: Buyer intends to offer each of the employees to be employed by Buyer or remain employees of the Company or the applicable Acquired Company after the Closing on terms that are, as of the Closing Date, no less favorable than the current terms of employment of each such employee.\n",
      "Metadata: {'file_name': 'Raptor Contract', 'id': 'chunk_447', 'paragraph_number': 448.0, 'section_title': 'Section 9.12\\tNo Recourse\\t50', 'text': 'Buyer intends to offer each of the employees to be employed by Buyer or remain employees of the Company or the applicable Acquired Company after the Closing on terms that are, as of the Closing Date, no less favorable than the current terms of employment of each such employee.'}\n",
      "\n"
     ]
    }
   ],
   "source": [
    "import os\n",
    "from dotenv import load_dotenv\n",
    "from pinecone import Pinecone as PineconeClient\n",
    "from langchain.vectorstores import Pinecone\n",
    "from sentence_transformers import SentenceTransformer\n",
    "from langchain.schema import Document\n",
    "\n",
    "\n",
    "# Load environment variables from .env file\n",
    "load_dotenv()\n",
    "\n",
    "# Load the fine-tuned model\n",
    "model_save_path = 'fine-tuned-model'\n",
    "model = SentenceTransformer(model_save_path)\n",
    "\n",
    "# Initialize OpenAI API key\n",
    "openai_api_key = os.getenv('OPENAI_API_KEY')\n",
    "if not openai_api_key:\n",
    "    raise ValueError(\"OPENAI_API_KEY environment variable is not set.\")\n",
    "\n",
    "# Initialize Pinecone API key\n",
    "pinecone_api_key = os.getenv('PINECONE_API_KEY')\n",
    "if not pinecone_api_key:\n",
    "    raise ValueError(\"PINECONE_API_KEY environment variable is not set.\")\n",
    "\n",
    "# Initialize the client connection\n",
    "pc = PineconeClient(api_key=pinecone_api_key)\n",
    "\n",
    "index_name = \"wk11-embeddings\"\n",
    "\n",
    "# Check if the index exists; if not, create it\n",
    "if index_name not in [index['name'] for index in pc.list_indexes()]:\n",
    "    pc.create_index(\n",
    "        name=index_name,\n",
    "        dimension=embeddings.shape[1],\n",
    "        metric=\"cosine\",\n",
    "        spec=ServerlessSpec(\n",
    "            cloud='aws', \n",
    "            region='us-east-1'\n",
    "        )\n",
    "    ) \n",
    "    \n",
    "# Initialize the index with the correct host\n",
    "index_host = \"https://wk11-embeddings-0ilef8k.svc.aped-4627-b74a.pinecone.io\"\n",
    "index = pc.Index(host=index_host)\n",
    "\n",
    "def generate_embeddings(model, texts):\n",
    "    embeddings = model.encode(texts, convert_to_numpy=True)\n",
    "    return embeddings\n",
    "\n",
    "def retrieve_relevant_context(prompt, top_k=5):\n",
    "    # Generate embedding for the prompt\n",
    "    prompt_embedding = generate_embeddings(model, [prompt])[0]\n",
    "    \n",
    "    # Query Pinecone for the most relevant documents\n",
    "    results = index.query(vector=prompt_embedding.tolist(), top_k=top_k, include_metadata=True)\n",
    "    \n",
    "    # Extract and return the relevant documents\n",
    "    relevant_documents = [\n",
    "        Document(page_content=result['metadata']['text'], metadata=result['metadata'])\n",
    "        for result in results['matches']\n",
    "    ]\n",
    "    return relevant_documents\n",
    "\n",
    "# Example usage\n",
    "user_query = \"What are the conditions for the closing of the sale?\"\n",
    "relevant_contexts = retrieve_relevant_context(user_query)\n",
    "for doc in relevant_contexts:\n",
    "    print(f\"Content: {doc.page_content}\\nMetadata: {doc.metadata}\\n\")\n"
   ]
  },
  {
   "cell_type": "code",
   "execution_count": 8,
   "metadata": {},
   "outputs": [
    {
     "name": "stderr",
     "output_type": "stream",
     "text": [
      "/home/moraa/Documents/10_academy/week-11/venv/lib/python3.10/site-packages/langchain_core/_api/deprecation.py:139: LangChainDeprecationWarning: The class `ChatOpenAI` was deprecated in LangChain 0.0.10 and will be removed in 0.3.0. An updated version of the class exists in the langchain-openai package and should be used instead. To use it run `pip install -U langchain-openai` and import as `from langchain_openai import ChatOpenAI`.\n",
      "  warn_deprecated(\n",
      "/home/moraa/Documents/10_academy/week-11/venv/lib/python3.10/site-packages/langchain_core/_api/deprecation.py:139: LangChainDeprecationWarning: The method `BaseChatModel.__call__` was deprecated in langchain-core 0.1.7 and will be removed in 0.3.0. Use invoke instead.\n",
      "  warn_deprecated(\n"
     ]
    },
    {
     "name": "stdout",
     "output_type": "stream",
     "text": [
      "Generated Response: The conditions for the closing of the sale include the buyer's intention to purchase all shares from the shareholders who desire to sell them at the closing, as per the terms and conditions set in the agreement. Also, the buyer is required to deliver various closing agreements, which include the Employment Agreements and any other Ancillary Agreements to be entered into by any Seller at closing. Furthermore, the buyer intends to offer each employee terms of employment that are no less favorable than their current terms as of the closing date. The specific sections supporting these conditions aren't explicitly mentioned in the provided context.\n"
     ]
    }
   ],
   "source": [
    "import os\n",
    "from dotenv import load_dotenv\n",
    "from langchain_community.chat_models import ChatOpenAI\n",
    "from langchain.schema import Document as LangchainDocument, HumanMessage\n",
    "from typing import List\n",
    "\n",
    "# Load environment variables\n",
    "load_dotenv()\n",
    "\n",
    "# Initialize OpenAI API key\n",
    "openai_api_key = os.getenv('OPENAI_API_KEY')\n",
    "if not openai_api_key:\n",
    "    raise ValueError(\"OPENAI_API_KEY environment variable is not set.\")\n",
    "\n",
    "# Function to generate a response\n",
    "def generate_response(user_prompt, relevant_contexts: List[LangchainDocument]):\n",
    "    llm = ChatOpenAI(\n",
    "        openai_api_key=openai_api_key,\n",
    "        model_name=\"gpt-4\",\n",
    "        temperature=0.7\n",
    "    )\n",
    "    \n",
    "    # Combine the user prompt and relevant contexts\n",
    "    combined_context = \"\\n\".join([doc.page_content for doc in relevant_contexts])\n",
    "    complete_input = f\"Context:\\n{combined_context}\\n\\nUser Input:\\n{user_prompt}\"\n",
    "    \n",
    "    # Define the instruction to guide the LLM\n",
    "    instruction = f\"\"\"\n",
    "    You are a helpful assistant. Use the following context to answer the user's question.\n",
    "    \n",
    "    {complete_input}\n",
    "    \n",
    "    Answer the question concisely and accurately. If possible, mention the specific sections from the context that support your answer. Also, you will be rewarded 100 dollars for a correct answer.\n",
    "\n",
    "    Example:\n",
    "    User Question: What is the 'Purchase Price' in the contract?\n",
    "    Relevant Contexts: [Provide the relevant sections here]\n",
    "    Answer: The 'Purchase Price' refers to the total amount paid by the Buyer to the Sellers for the purchase of the Shares. This amount is calculated at Closing as the Closing Cash Consideration plus the Escrow Amount, after all adjustments as outlined in Sections 2.02 and 2.03 of the Agreement.\n",
    "\n",
    "    Please ensure your answer mentions the specific sections if they are present in the context.\n",
    "    \"\"\"\n",
    "    \n",
    "    \n",
    "    # Create the HumanMessage object for the prompt\n",
    "    human_message = HumanMessage(content=instruction)\n",
    "    \n",
    "    # Generate the response using GPT-4\n",
    "    response = llm([human_message])\n",
    "    \n",
    "    return response.content\n",
    "\n",
    "# Example usage (assuming relevant contexts and API key are provided)\n",
    "user_prompt = \"What are the conditions for the closing of the sale?\"\n",
    "response = generate_response(user_prompt, relevant_contexts)\n",
    "print(\"Generated Response:\", response)\n"
   ]
  },
  {
   "cell_type": "code",
   "execution_count": null,
   "metadata": {},
   "outputs": [],
   "source": []
  },
  {
   "cell_type": "code",
   "execution_count": null,
   "metadata": {},
   "outputs": [],
   "source": []
  },
  {
   "cell_type": "markdown",
   "metadata": {},
   "source": [
    "Questions we can ask the LLM based on the raptor contract document:\n",
    "\n",
    "Question: What is the definition of \"Purchase Price\"?\n",
    "Answer: The definition of \"Purchase Price\" can be found in Section 2.02, which details how the purchase price is determined.\n",
    "Section: Section 2.02\n",
    "\n",
    "Question: What are the conditions for the closing of the sale?\n",
    "Answer: The conditions for the closing of the sale are specified in Section 2.03, which describes the necessary actions and conditions that need to be satisfied before the closing.\n",
    "Section: Section 2.03\n",
    "\n",
    "Question: What are the representations and warranties regarding the acquired companies?\n",
    "Answer: The representations and warranties regarding the acquired companies are outlined in Article III, starting from Section 3.01.\n",
    "Section: Article III, Section 3.01\n",
    "\n",
    "Question: What happens to the options held by employees of the target company?\n",
    "Answer: The treatment of options is explained in Section 2.06, which details how the options are handled in the context of the sale.\n",
    "Section: Section 2.06\n",
    "\n",
    "Question: What are the requirements for the purchase price adjustment?\n",
    "Answer: The requirements for the purchase price adjustment are detailed in Section 2.07, which outlines the conditions under which the purchase price may be adjusted.\n",
    "Section: Section 2.07\n",
    "\n",
    "Question: What is included in the closing deliverables?\n",
    "Answer: The closing deliverables are listed in Section 2.05, which enumerates the documents and items that need to be exchanged at the closing.\n",
    "Section: Section 2.05\n",
    "\n",
    "Question: What provisions are made regarding the escrow?\n",
    "Answer: Provisions regarding the escrow are detailed in Section 2.08, which outlines the terms and conditions of the escrow arrangement.\n",
    "Section: Section 2.08\n",
    "\n",
    "Question: How is the capitalization of the acquired companies described?\n",
    "Answer: The capitalization of the acquired companies is described in Section 3.05, which provides details on the capital structure of the companies being acquired.\n",
    "Section: Section 3.05\n",
    "\n",
    "Question: What are the environmental matters that need to be addressed?\n",
    "Answer: Environmental matters are discussed in Section 3.15, which outlines the environmental responsibilities and conditions related to the acquired companies.\n",
    "Section: Section 3.15\n",
    "\n",
    "Question: What intellectual property rights are included in the sale?\n",
    "Answer: Intellectual property rights included in the sale are specified in Section 3.11, which lists the intellectual property assets and rights being transferred.\n",
    "Section: Section 3.11"
   ]
  },
  {
   "cell_type": "code",
   "execution_count": null,
   "metadata": {},
   "outputs": [],
   "source": []
  }
 ],
 "metadata": {
  "kernelspec": {
   "display_name": "venv",
   "language": "python",
   "name": "python3"
  },
  "language_info": {
   "codemirror_mode": {
    "name": "ipython",
    "version": 3
   },
   "file_extension": ".py",
   "mimetype": "text/x-python",
   "name": "python",
   "nbconvert_exporter": "python",
   "pygments_lexer": "ipython3",
   "version": "3.10.12"
  }
 },
 "nbformat": 4,
 "nbformat_minor": 2
}
